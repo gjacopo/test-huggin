{
  "nbformat": 4,
  "nbformat_minor": 0,
  "metadata": {
    "colab": {
      "name": "dummy test on transformers",
      "provenance": [],
      "collapsed_sections": [],
      "authorship_tag": "ABX9TyPDcOnowKY1kJzGcuctWyNZ"
    },
    "kernelspec": {
      "name": "python3",
      "display_name": "Python 3"
    },
    "language_info": {
      "name": "python"
    }
  },
  "cells": [
    {
      "cell_type": "code",
      "metadata": {
        "colab": {
          "base_uri": "https://localhost:8080/"
        },
        "id": "EiIw30d6FUY7",
        "outputId": "22a11496-b7cf-43bf-9c08-75f3c886b444"
      },
      "source": [
        "!pip install transformers"
      ],
      "execution_count": 1,
      "outputs": [
        {
          "output_type": "stream",
          "text": [
            "Requirement already satisfied: transformers in /usr/local/lib/python3.7/dist-packages (4.9.2)\n",
            "Requirement already satisfied: tokenizers<0.11,>=0.10.1 in /usr/local/lib/python3.7/dist-packages (from transformers) (0.10.3)\n",
            "Requirement already satisfied: packaging in /usr/local/lib/python3.7/dist-packages (from transformers) (21.0)\n",
            "Requirement already satisfied: regex!=2019.12.17 in /usr/local/lib/python3.7/dist-packages (from transformers) (2019.12.20)\n",
            "Requirement already satisfied: sacremoses in /usr/local/lib/python3.7/dist-packages (from transformers) (0.0.45)\n",
            "Requirement already satisfied: huggingface-hub==0.0.12 in /usr/local/lib/python3.7/dist-packages (from transformers) (0.0.12)\n",
            "Requirement already satisfied: tqdm>=4.27 in /usr/local/lib/python3.7/dist-packages (from transformers) (4.62.0)\n",
            "Requirement already satisfied: importlib-metadata in /usr/local/lib/python3.7/dist-packages (from transformers) (4.6.3)\n",
            "Requirement already satisfied: requests in /usr/local/lib/python3.7/dist-packages (from transformers) (2.23.0)\n",
            "Requirement already satisfied: pyyaml>=5.1 in /usr/local/lib/python3.7/dist-packages (from transformers) (5.4.1)\n",
            "Requirement already satisfied: numpy>=1.17 in /usr/local/lib/python3.7/dist-packages (from transformers) (1.19.5)\n",
            "Requirement already satisfied: filelock in /usr/local/lib/python3.7/dist-packages (from transformers) (3.0.12)\n",
            "Requirement already satisfied: typing-extensions in /usr/local/lib/python3.7/dist-packages (from huggingface-hub==0.0.12->transformers) (3.7.4.3)\n",
            "Requirement already satisfied: pyparsing>=2.0.2 in /usr/local/lib/python3.7/dist-packages (from packaging->transformers) (2.4.7)\n",
            "Requirement already satisfied: zipp>=0.5 in /usr/local/lib/python3.7/dist-packages (from importlib-metadata->transformers) (3.5.0)\n",
            "Requirement already satisfied: urllib3!=1.25.0,!=1.25.1,<1.26,>=1.21.1 in /usr/local/lib/python3.7/dist-packages (from requests->transformers) (1.24.3)\n",
            "Requirement already satisfied: chardet<4,>=3.0.2 in /usr/local/lib/python3.7/dist-packages (from requests->transformers) (3.0.4)\n",
            "Requirement already satisfied: idna<3,>=2.5 in /usr/local/lib/python3.7/dist-packages (from requests->transformers) (2.10)\n",
            "Requirement already satisfied: certifi>=2017.4.17 in /usr/local/lib/python3.7/dist-packages (from requests->transformers) (2021.5.30)\n",
            "Requirement already satisfied: click in /usr/local/lib/python3.7/dist-packages (from sacremoses->transformers) (7.1.2)\n",
            "Requirement already satisfied: six in /usr/local/lib/python3.7/dist-packages (from sacremoses->transformers) (1.15.0)\n",
            "Requirement already satisfied: joblib in /usr/local/lib/python3.7/dist-packages (from sacremoses->transformers) (1.0.1)\n"
          ],
          "name": "stdout"
        }
      ]
    },
    {
      "cell_type": "code",
      "metadata": {
        "colab": {
          "base_uri": "https://localhost:8080/"
        },
        "id": "f7NH-IQHn4hS",
        "outputId": "767e5e55-05a4-4343-e499-8287bcb7299b"
      },
      "source": [
        "!pip install git+https://github.com/gjacopo/test-huggin.git "
      ],
      "execution_count": 2,
      "outputs": [
        {
          "output_type": "stream",
          "text": [
            "Collecting git+https://github.com/gjacopo/test-huggin.git\n",
            "  Cloning https://github.com/gjacopo/test-huggin.git to /tmp/pip-req-build-j_5h0r3y\n",
            "  Running command git clone -q https://github.com/gjacopo/test-huggin.git /tmp/pip-req-build-j_5h0r3y\n",
            "Requirement already satisfied: numpy in /usr/local/lib/python3.7/dist-packages (from test-huggin==0.0.0) (1.19.5)\n",
            "Requirement already satisfied: pandas in /usr/local/lib/python3.7/dist-packages (from test-huggin==0.0.0) (1.1.5)\n",
            "Requirement already satisfied: transformers in /usr/local/lib/python3.7/dist-packages (from test-huggin==0.0.0) (4.9.2)\n",
            "Requirement already satisfied: python-dateutil>=2.7.3 in /usr/local/lib/python3.7/dist-packages (from pandas->test-huggin==0.0.0) (2.8.2)\n",
            "Requirement already satisfied: pytz>=2017.2 in /usr/local/lib/python3.7/dist-packages (from pandas->test-huggin==0.0.0) (2018.9)\n",
            "Requirement already satisfied: six>=1.5 in /usr/local/lib/python3.7/dist-packages (from python-dateutil>=2.7.3->pandas->test-huggin==0.0.0) (1.15.0)\n",
            "Requirement already satisfied: huggingface-hub==0.0.12 in /usr/local/lib/python3.7/dist-packages (from transformers->test-huggin==0.0.0) (0.0.12)\n",
            "Requirement already satisfied: sacremoses in /usr/local/lib/python3.7/dist-packages (from transformers->test-huggin==0.0.0) (0.0.45)\n",
            "Requirement already satisfied: pyyaml>=5.1 in /usr/local/lib/python3.7/dist-packages (from transformers->test-huggin==0.0.0) (5.4.1)\n",
            "Requirement already satisfied: tokenizers<0.11,>=0.10.1 in /usr/local/lib/python3.7/dist-packages (from transformers->test-huggin==0.0.0) (0.10.3)\n",
            "Requirement already satisfied: packaging in /usr/local/lib/python3.7/dist-packages (from transformers->test-huggin==0.0.0) (21.0)\n",
            "Requirement already satisfied: filelock in /usr/local/lib/python3.7/dist-packages (from transformers->test-huggin==0.0.0) (3.0.12)\n",
            "Requirement already satisfied: regex!=2019.12.17 in /usr/local/lib/python3.7/dist-packages (from transformers->test-huggin==0.0.0) (2019.12.20)\n",
            "Requirement already satisfied: importlib-metadata in /usr/local/lib/python3.7/dist-packages (from transformers->test-huggin==0.0.0) (4.6.3)\n",
            "Requirement already satisfied: requests in /usr/local/lib/python3.7/dist-packages (from transformers->test-huggin==0.0.0) (2.23.0)\n",
            "Requirement already satisfied: tqdm>=4.27 in /usr/local/lib/python3.7/dist-packages (from transformers->test-huggin==0.0.0) (4.62.0)\n",
            "Requirement already satisfied: typing-extensions in /usr/local/lib/python3.7/dist-packages (from huggingface-hub==0.0.12->transformers->test-huggin==0.0.0) (3.7.4.3)\n",
            "Requirement already satisfied: pyparsing>=2.0.2 in /usr/local/lib/python3.7/dist-packages (from packaging->transformers->test-huggin==0.0.0) (2.4.7)\n",
            "Requirement already satisfied: zipp>=0.5 in /usr/local/lib/python3.7/dist-packages (from importlib-metadata->transformers->test-huggin==0.0.0) (3.5.0)\n",
            "Requirement already satisfied: chardet<4,>=3.0.2 in /usr/local/lib/python3.7/dist-packages (from requests->transformers->test-huggin==0.0.0) (3.0.4)\n",
            "Requirement already satisfied: idna<3,>=2.5 in /usr/local/lib/python3.7/dist-packages (from requests->transformers->test-huggin==0.0.0) (2.10)\n",
            "Requirement already satisfied: certifi>=2017.4.17 in /usr/local/lib/python3.7/dist-packages (from requests->transformers->test-huggin==0.0.0) (2021.5.30)\n",
            "Requirement already satisfied: urllib3!=1.25.0,!=1.25.1,<1.26,>=1.21.1 in /usr/local/lib/python3.7/dist-packages (from requests->transformers->test-huggin==0.0.0) (1.24.3)\n",
            "Requirement already satisfied: click in /usr/local/lib/python3.7/dist-packages (from sacremoses->transformers->test-huggin==0.0.0) (7.1.2)\n",
            "Requirement already satisfied: joblib in /usr/local/lib/python3.7/dist-packages (from sacremoses->transformers->test-huggin==0.0.0) (1.0.1)\n"
          ],
          "name": "stdout"
        }
      ]
    },
    {
      "cell_type": "code",
      "metadata": {
        "id": "gMBm-mNttQUO"
      },
      "source": [
        "from test_huggin import pipes"
      ],
      "execution_count": 3,
      "outputs": []
    },
    {
      "cell_type": "code",
      "metadata": {
        "id": "gCYmKJXqTd7L"
      },
      "source": [
        "sentence = \"What a great Summer in Luxembourg!\"\n",
        "text = \"\"\"Almost five years ago, the International Consortium of Investigative Journalists published its Lux Leaks investigation, exposing how some of the world’s largest corporations cycled billions of dollars through Luxembourg so as to avoid paying huge amounts of tax — taxes that otherwise could have ended up in the coffers of other European countries.\n",
        "                    The revelations laid bare more than 300 secret tax deals that Luxembourg had struck with global businesses, including Disney, Skype, GlaxoSmithKline, Koch Industries and Black & Decker.\n",
        "                    In several cases, the deals — known as “tax rulings” — allowed firms to pay less than 1 percent tax in Luxembourg.\n",
        "                    The EU’s second smallest member state was secretly offering huge tax favors on an industrial scale. \n",
        "                    In some instances, leaked documents showed officials even granted lucrative tax deductions for “deemed interest” — that is, pretend payments of interest on loans that, in reality, were interest-free.\n",
        "                    In 2014, there were immediate calls for the European Union’s then-new competition commissioner Margrethe Vestager to take action.\n",
        "                    If Luxembourg’s tax rulings were found to offer benefits to preferred companies then Vestager could use EU competition law — which bars countries from giving state aid to favored businesses — to reverse these deals and force multinationals to make up years of tax underpayment.\n",
        "                    But Vestager declined immediate action.\n",
        "                    \"\"\"\n",
        "question = \"What was the tax rates payed by firms in Luxembourg?\""
      ],
      "execution_count": 4,
      "outputs": []
    },
    {
      "cell_type": "code",
      "metadata": {
        "colab": {
          "base_uri": "https://localhost:8080/"
        },
        "id": "GCn8MegGFzTk",
        "outputId": "0caae8c5-2a85-43f2-ea72-bfe7842add0e"
      },
      "source": [
        "sent = pipes.Sentiment(); res = sent(sentence)\n",
        "print(res)"
      ],
      "execution_count": 5,
      "outputs": [
        {
          "output_type": "stream",
          "text": [
            "      label    score\n",
            "0  POSITIVE  0.99984\n"
          ],
          "name": "stdout"
        }
      ]
    },
    {
      "cell_type": "code",
      "metadata": {
        "colab": {
          "base_uri": "https://localhost:8080/"
        },
        "id": "JLIQ2IY09qss",
        "outputId": "623ad566-4e8c-4f83-f181-99fe8cc18cd6"
      },
      "source": [
        "ner = pipes.NER(aggregation_strategy = \"simple\"); res = ner(text)\n",
        "print(res[['entity_group', 'score', 'word']])"
      ],
      "execution_count": 6,
      "outputs": [
        {
          "output_type": "stream",
          "text": [
            "   entity_group     score                                               word\n",
            "0           ORG  0.965939  International Consortium of Investigative Jour...\n",
            "1           ORG  0.902232                                          Lux Leaks\n",
            "2           LOC  0.999760                                         Luxembourg\n",
            "3          MISC  0.998179                                           European\n",
            "4           LOC  0.999627                                         Luxembourg\n",
            "5           ORG  0.999347                                             Disney\n",
            "6           ORG  0.998320                                              Skype\n",
            "7           ORG  0.999184                                    GlaxoSmithKline\n",
            "8           ORG  0.999592                                    Koch Industries\n",
            "9           ORG  0.999122                                     Black & Decker\n",
            "10          LOC  0.999724                                         Luxembourg\n",
            "11          ORG  0.998417                                                 EU\n",
            "12          ORG  0.999248                                     European Union\n",
            "13          PER  0.992826                                 Margrethe Vestager\n",
            "14          LOC  0.999715                                         Luxembourg\n",
            "15          PER  0.985620                                              Vesta\n",
            "16          ORG  0.955325                                                 EU\n",
            "17          PER  0.938853                                           Vestager\n"
          ],
          "name": "stdout"
        }
      ]
    },
    {
      "cell_type": "code",
      "metadata": {
        "colab": {
          "base_uri": "https://localhost:8080/"
        },
        "id": "lzcYhg1E9KlG",
        "outputId": "c33159a8-526e-406b-c758-ee2c441894be"
      },
      "source": [
        "qa = pipes.QA(); res= qa(question=question, context=text)\n",
        "print('%s %s' % (question, res.answer[0]))"
      ],
      "execution_count": 7,
      "outputs": [
        {
          "output_type": "stream",
          "text": [
            "What was the tax rates payed by firms in Luxembourg? less than 1 percent tax\n"
          ],
          "name": "stdout"
        }
      ]
    },
    {
      "cell_type": "code",
      "metadata": {
        "colab": {
          "base_uri": "https://localhost:8080/"
        },
        "id": "74RMv6sNGlkb",
        "outputId": "ae754eeb-077e-4cd6-d8fd-afe28b7408ed"
      },
      "source": [
        "trans = pipes.Translation('en', 'de'); res = trans(sentence)\n",
        "print(res['translation_text'][0])"
      ],
      "execution_count": 8,
      "outputs": [
        {
          "output_type": "stream",
          "text": [
            "/usr/local/lib/python3.7/dist-packages/torch/_tensor.py:575: UserWarning: floor_divide is deprecated, and will be removed in a future version of pytorch. It currently rounds toward 0 (like the 'trunc' function NOT 'floor'). This results in incorrect rounding for negative values.\n",
            "To keep the current behavior, use torch.div(a, b, rounding_mode='trunc'), or for actual floor division, use torch.div(a, b, rounding_mode='floor'). (Triggered internally at  /pytorch/aten/src/ATen/native/BinaryOps.cpp:467.)\n",
            "  return torch.floor_divide(self, other)\n"
          ],
          "name": "stderr"
        },
        {
          "output_type": "stream",
          "text": [
            "Was für ein toller Sommer in Luxemburg!\n"
          ],
          "name": "stdout"
        }
      ]
    },
    {
      "cell_type": "code",
      "metadata": {
        "colab": {
          "base_uri": "https://localhost:8080/"
        },
        "id": "6TWwzu3dHAJh",
        "outputId": "c162db67-b286-4d5a-bf01-ad4e6a010689"
      },
      "source": [
        "summary = pipes.Summary(); res = summary(text)\n",
        "print(res['summary_text'][0])"
      ],
      "execution_count": 9,
      "outputs": [
        {
          "output_type": "stream",
          "text": [
            " Lux Leaks exposed how some of the world’s largest corporations cycled billions of dollars through Luxembourg so as to avoid paying huge amounts of tax . The revelations laid bare more than 300 secret tax deals that Luxembourg had struck with global businesses, including Disney, Skype, GlaxoSmithKline, Koch Industries and Black & Decker . The deals — known as “tax rulings” — allowed firms to pay less than 1 percent tax in Luxembourg .\n"
          ],
          "name": "stdout"
        }
      ]
    }
  ]
}